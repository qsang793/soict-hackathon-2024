{
 "cells": [
  {
   "cell_type": "code",
   "execution_count": 22,
   "metadata": {},
   "outputs": [
    {
     "name": "stdout",
     "output_type": "stream",
     "text": [
      "Done organizing images and labels by class with separate folders for images and labels.\n"
     ]
    }
   ],
   "source": [
    "import os\n",
    "import shutil\n",
    "\n",
    "images_dir = '/home/quangsang/test/cropped_cam10/images'\n",
    "labels_dir = '/home/quangsang/test/cropped_cam10/labels'\n",
    "output_dir = '/home/quangsang/test/cropped_cam10/cropped_images_by_class'\n",
    "\n",
    "if not os.path.exists(output_dir):\n",
    "    os.makedirs(output_dir)\n",
    "\n",
    "for image_name in os.listdir(images_dir):\n",
    "    if image_name.lower().endswith(('.jpg', '.jpeg', '.png')):\n",
    "\n",
    "        parts = image_name.split('_')\n",
    "        if len(parts) < 2:\n",
    "            print(f\"Filename {image_name} does not conform to expected format. Skipping.\")\n",
    "            continue\n",
    "        class_part = parts[-1]\n",
    "        class_id = os.path.splitext(class_part)[0].replace('class_', '')\n",
    "\n",
    "        class_name = f'class_{class_id}'\n",
    "\n",
    "        class_dir = os.path.join(output_dir, class_name)\n",
    "        if not os.path.exists(class_dir):\n",
    "            os.makedirs(class_dir)\n",
    "            \n",
    "            images_class_dir = os.path.join(class_dir, 'images')\n",
    "            labels_class_dir = os.path.join(class_dir, 'labels')\n",
    "            os.makedirs(images_class_dir)\n",
    "            os.makedirs(labels_class_dir)\n",
    "        else:\n",
    "            images_class_dir = os.path.join(class_dir, 'images')\n",
    "            labels_class_dir = os.path.join(class_dir, 'labels')\n",
    "\n",
    "        image_output_path = os.path.join(images_class_dir, image_name)\n",
    "        label_name = os.path.splitext(image_name)[0] + '.txt'\n",
    "        label_output_path = os.path.join(labels_class_dir, label_name)\n",
    "\n",
    "        source_image_path = os.path.join(images_dir, image_name)\n",
    "        source_label_path = os.path.join(labels_dir, label_name)\n",
    "\n",
    "        if not os.path.isfile(source_label_path):\n",
    "            print(f\"Label file {label_name} does not exist for image {image_name}. Skipping.\")\n",
    "            continue\n",
    "\n",
    "        shutil.copy(source_image_path, image_output_path)\n",
    "        shutil.copy(source_label_path, label_output_path)\n",
    "\n",
    "print(\"Done organizing images and labels by class with separate folders for images and labels.\")"
   ]
  },
  {
   "cell_type": "code",
   "execution_count": 64,
   "metadata": {},
   "outputs": [
    {
     "name": "stderr",
     "output_type": "stream",
     "text": [
      "Fast image processor class <class 'transformers.models.vit.image_processing_vit_fast.ViTImageProcessorFast'> is available for this model. Using slow image processor class. To use the fast image processor class set `use_fast=True`.\n",
      "Extracting features: 100%|██████████| 835/835 [00:15<00:00, 55.60it/s]\n",
      "/home/quangsang/.conda/envs/pytorch/lib/python3.9/site-packages/sklearn/cluster/_kmeans.py:1416: FutureWarning: The default value of `n_init` will change from 10 to 'auto' in 1.4. Set the value of `n_init` explicitly to suppress the warning\n",
      "  super()._check_params_vs_input(X, default_n_init=10)\n"
     ]
    },
    {
     "name": "stdout",
     "output_type": "stream",
     "text": [
      "Saving centroid image for cluster 199\n",
      "Done saving centroid images and labels.\n"
     ]
    }
   ],
   "source": [
    "import os\n",
    "import shutil\n",
    "\n",
    "import numpy as np\n",
    "import torch\n",
    "from PIL import Image\n",
    "from sklearn.cluster import KMeans\n",
    "from tqdm import tqdm\n",
    "from transformers import pipeline\n",
    "\n",
    "# Đặt thiết bị là CUDA 1 nếu có sẵn\n",
    "DEVICE = torch.device(\"cuda:1\" if torch.cuda.is_available() else \"cpu\")\n",
    "\n",
    "# Khởi tạo pipeline để trích xuất đặc trưng từ hình ảnh\n",
    "pipe = pipeline(\n",
    "    task=\"image-feature-extraction\",\n",
    "    model=\"google/vit-base-patch16-224-in21k\",\n",
    "    device=DEVICE.index,  # Chỉ định thiết bị cụ thể\n",
    "    pool=True,\n",
    "    use_fast=True,\n",
    ")\n",
    "\n",
    "# Tạo thư mục để lưu các hình ảnh đại diện\n",
    "# images_save_dir = \"/home/quangsang/test/cropped_cam1/represent_images_by_class/class_3/images\"\n",
    "# os.makedirs(images_save_dir, exist_ok=True)\n",
    "# labels_save_dir = \"/home/quangsang/test/cropped_cam1/represent_images_by_class/class_3/labels\"\n",
    "# os.makedirs(labels_save_dir, exist_ok=True)\n",
    "integration_save_dir = \"/home/quangsang/test/cropped_cam10/represent_images_by_class/class_3\"\n",
    "os.makedirs(integration_save_dir, exist_ok=True)\n",
    "\n",
    "# Đường dẫn tới thư mục chứa các hình ảnh đầu vào\n",
    "images_root = \"/home/quangsang/test/cropped_cam10/cropped_images_by_class/class_3/images\"\n",
    "labels_root = \"/home/quangsang/test/cropped_cam10/cropped_images_by_class/class_3/labels\"\n",
    "\n",
    "# Trích xuất đặc trưng từ tất cả các hình ảnh\n",
    "featurelist = []\n",
    "filelist = os.listdir(images_root)\n",
    "for image_name in tqdm(filelist, desc=\"Extracting features\"):\n",
    "    image_path = os.path.join(images_root, image_name)\n",
    "    image = Image.open(image_path)\n",
    "    outputs = pipe([image])\n",
    "    feature = outputs[0][0]\n",
    "    featurelist.append(feature)\n",
    "\n",
    "# Chuyển đổi danh sách đặc trưng thành mảng numpy\n",
    "features = np.array(featurelist)\n",
    "\n",
    "# Phân cụm các đặc trưng\n",
    "number_clusters = 200  # Số lượng cụm bạn muốn\n",
    "kmeans = KMeans(n_clusters=number_clusters, random_state=0).fit(features)\n",
    "\n",
    "# Tìm hình ảnh gần nhất với mỗi tâm cụm\n",
    "centroid_indices = []\n",
    "for centroid in kmeans.cluster_centers_:\n",
    "    distances = np.linalg.norm(features - centroid, axis=1)\n",
    "    closest_index = np.argmin(distances)\n",
    "    centroid_indices.append(closest_index)\n",
    "\n",
    "# Lưu các hình ảnh đại diện cho mỗi cụm\n",
    "for cluster, index in enumerate(centroid_indices):\n",
    "    print(f\"Saving centroid image for cluster {cluster}\", end=\"\\r\")\n",
    "    image_name = filelist[index]\n",
    "    shutil.copy(\n",
    "        os.path.join(images_root, image_name),\n",
    "        os.path.join(integration_save_dir, image_name),\n",
    "    )\n",
    "    \n",
    "    # Xuất tệp nhãn tương ứng\n",
    "    label_name = os.path.splitext(image_name)[0] + '.txt'\n",
    "    shutil.copy(\n",
    "        os.path.join(labels_root, label_name),\n",
    "        os.path.join(integration_save_dir, label_name),\n",
    "    )\n",
    "\n",
    "print(\"\\nDone saving centroid images and labels.\")"
   ]
  },
  {
   "cell_type": "code",
   "execution_count": 4,
   "metadata": {},
   "outputs": [
    {
     "name": "stdout",
     "output_type": "stream",
     "text": [
      "Done organizing images and labels by class.\n"
     ]
    }
   ],
   "source": [
    "import os\n",
    "import shutil\n",
    "\n",
    "# Đường dẫn tới thư mục chứa các hình ảnh và nhãn đầu vào\n",
    "images_dir = '/home/quangsang/test/cam1/represent_images/images'\n",
    "labels_dir = '/home/quangsang/test/cam1/represent_images/labels'\n",
    "output_dir = '/home/quangsang/test/cam1/represent_images_by_class'\n",
    "\n",
    "# Tạo thư mục đầu ra nếu chưa tồn tại\n",
    "if not os.path.exists(output_dir):\n",
    "    os.makedirs(output_dir)\n",
    "\n",
    "# Duyệt qua tất cả các tệp hình ảnh trong thư mục images_dir\n",
    "for image_name in os.listdir(images_dir):\n",
    "    if image_name.lower().endswith(('.jpg', '.jpeg', '.png')):\n",
    "        # Lấy class_id từ tên tệp hình ảnh\n",
    "        parts = image_name.split('_')\n",
    "        class_id = parts[-1].split('.')[0].replace('class_', '')\n",
    "\n",
    "        # Tạo thư mục cho class_id nếu chưa tồn tại\n",
    "        class_dir = os.path.join(output_dir, f'class_{class_id}')\n",
    "        if not os.path.exists(class_dir):\n",
    "            os.makedirs(class_dir)\n",
    "\n",
    "        # Đường dẫn tới tệp hình ảnh và nhãn đầu ra\n",
    "        image_output_path = os.path.join(class_dir, image_name)\n",
    "        label_name = os.path.splitext(image_name)[0] + '.txt'\n",
    "        label_output_path = os.path.join(class_dir, label_name)\n",
    "\n",
    "        # Sao chép tệp hình ảnh và nhãn vào thư mục class_id\n",
    "        shutil.copy(os.path.join(images_dir, image_name), image_output_path)\n",
    "        shutil.copy(os.path.join(labels_dir, label_name), label_output_path)\n",
    "\n",
    "print(\"Done organizing images and labels by class.\")"
   ]
  },
  {
   "cell_type": "code",
   "execution_count": null,
   "metadata": {},
   "outputs": [],
   "source": []
  }
 ],
 "metadata": {
  "kernelspec": {
   "display_name": "pytorch",
   "language": "python",
   "name": "python3"
  },
  "language_info": {
   "codemirror_mode": {
    "name": "ipython",
    "version": 3
   },
   "file_extension": ".py",
   "mimetype": "text/x-python",
   "name": "python",
   "nbconvert_exporter": "python",
   "pygments_lexer": "ipython3",
   "version": "3.9.19"
  }
 },
 "nbformat": 4,
 "nbformat_minor": 2
}
