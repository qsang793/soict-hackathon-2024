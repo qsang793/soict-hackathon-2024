{
 "cells": [
  {
   "cell_type": "code",
   "execution_count": 18,
   "metadata": {},
   "outputs": [],
   "source": [
    "import os\n",
    "import shutil\n",
    "\n",
    "image_folder = '/home/quangsang/test/nighttime_normalized'\n",
    "new_folder = 'cam8'\n",
    "\n",
    "os.makedirs(os.path.join(new_folder, 'images'), exist_ok=True)\n",
    "os.makedirs(os.path.join(new_folder, 'labels'), exist_ok=True)\n",
    "\n",
    "def copy_files(file_list, src_folder, dest_folder):\n",
    "    for image_file in file_list:\n",
    "        image_path = os.path.join(src_folder, image_file)\n",
    "        label_path = os.path.join(src_folder, image_file.replace('.jpg', '.txt'))\n",
    "\n",
    "        shutil.copy(image_path, os.path.join(dest_folder, 'images', image_file))\n",
    "        if os.path.exists(label_path):\n",
    "            shutil.copy2(label_path, os.path.join(dest_folder, 'labels', image_file.replace('.jpg', '.txt')))\n",
    "\n",
    "image_files = [f for f in os.listdir(image_folder) if f.endswith('.jpg') and f.startswith('cam_08_')]\n",
    "\n",
    "copy_files(image_files, image_folder, new_folder)"
   ]
  },
  {
   "cell_type": "code",
   "execution_count": 26,
   "metadata": {},
   "outputs": [],
   "source": [
    "import os\n",
    "from PIL import Image\n",
    "\n",
    "images_dir = 'cam10/images'\n",
    "labels_dir = 'cam10/labels'\n",
    "output_dir = 'cropped_cam10/images'\n",
    "output_labels_dir = 'cropped_cam10/labels'\n",
    "\n",
    "if not os.path.exists(output_dir):\n",
    "    os.makedirs(output_dir)\n",
    "\n",
    "if not os.path.exists(output_labels_dir):\n",
    "    os.makedirs(output_labels_dir)\n",
    "\n",
    "for image_name in os.listdir(images_dir):\n",
    "    if image_name.lower().endswith(('.jpg', '.jpeg', '.png')):\n",
    "        image_path = os.path.join(images_dir, image_name)\n",
    "        label_path = os.path.join(labels_dir, os.path.splitext(image_name)[0] + '.txt')\n",
    "        \n",
    "        if not os.path.isfile(label_path):\n",
    "            continue\n",
    "        \n",
    "        with Image.open(image_path) as img:\n",
    "            width, height = img.size\n",
    "            with open(label_path, 'r') as file:\n",
    "                for idx, line in enumerate(file):\n",
    "                    parts = line.strip().split()\n",
    "                    if len(parts) != 5:\n",
    "                        continue\n",
    "                    class_id, x_center, y_center, bbox_width, bbox_height = map(float, parts)\n",
    "                    \n",
    "                    x_center *= width\n",
    "                    y_center *= height\n",
    "                    bbox_width *= width\n",
    "                    bbox_height *= height\n",
    "                    \n",
    "                    x1 = int(x_center - bbox_width / 2)\n",
    "                    y1 = int(y_center - bbox_height / 2)\n",
    "                    x2 = int(x_center + bbox_width / 2)\n",
    "                    y2 = int(y_center + bbox_height / 2)\n",
    "                    \n",
    "                    cropped_img = img.crop((x1, y1, x2, y2))\n",
    "                    output_image_name = f\"{os.path.splitext(image_name)[0]}_crop_{idx}_class_{int(class_id)}.jpg\"\n",
    "                    cropped_img.save(os.path.join(output_dir, output_image_name))\n",
    "                    \n",
    "                    # Xuất tệp nhãn cho ảnh đã cắt\n",
    "                    output_label_name = f\"{os.path.splitext(image_name)[0]}_crop_{idx}_class_{int(class_id)}.txt\"\n",
    "                    with open(os.path.join(output_labels_dir, output_label_name), 'w') as label_file:\n",
    "                        label_file.write(f\"{int(class_id)} {x_center} {y_center} {bbox_width} {bbox_height}\\n\")"
   ]
  },
  {
   "cell_type": "code",
   "execution_count": null,
   "metadata": {},
   "outputs": [],
   "source": []
  }
 ],
 "metadata": {
  "kernelspec": {
   "display_name": "pytorch",
   "language": "python",
   "name": "python3"
  },
  "language_info": {
   "codemirror_mode": {
    "name": "ipython",
    "version": 3
   },
   "file_extension": ".py",
   "mimetype": "text/x-python",
   "name": "python",
   "nbconvert_exporter": "python",
   "pygments_lexer": "ipython3",
   "version": "3.9.19"
  }
 },
 "nbformat": 4,
 "nbformat_minor": 2
}
