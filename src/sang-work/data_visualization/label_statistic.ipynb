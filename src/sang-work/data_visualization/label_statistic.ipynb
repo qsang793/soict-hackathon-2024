{
 "cells": [
  {
   "cell_type": "code",
   "execution_count": 1,
   "metadata": {},
   "outputs": [],
   "source": [
    "import os\n",
    "import matplotlib.pyplot as plt\n",
    "from collections import Counter"
   ]
  },
  {
   "cell_type": "markdown",
   "metadata": {},
   "source": [
    "# Checking for images missing labels "
   ]
  },
  {
   "cell_type": "code",
   "execution_count": 2,
   "metadata": {},
   "outputs": [
    {
     "name": "stdout",
     "output_type": "stream",
     "text": [
      "Thống kê tổng số lượng nhãn từ cả hai thư mục:\n",
      "Nhãn 3: 14696\n",
      "Nhãn 1: 26112\n",
      "Nhãn 0: 81473\n",
      "Nhãn 2: 6497\n",
      "Số file không đủ 4 nhãn: 9568\n"
     ]
    }
   ],
   "source": [
    "folders = ['nighttime_normalized', 'daytime']\n",
    "\n",
    "label_counts = Counter()\n",
    "missing_label_count = 0\n",
    "\n",
    "for folder in folders:\n",
    "    for filename in os.listdir(folder):\n",
    "        if filename.endswith('.txt'):\n",
    "            file_path = os.path.join(folder, filename)\n",
    "            \n",
    "            file_labels = set()\n",
    "            with open(file_path, 'r') as infile:\n",
    "                for line in infile:\n",
    "                    parts = line.strip().split()\n",
    "                    label = int(parts[0])\n",
    "                    label_counts[label] += 1\n",
    "                    file_labels.add(label)\n",
    "\n",
    "            if not all(label in file_labels for label in range(4)):\n",
    "                missing_label_count += 1\n",
    "\n",
    "print(\"Thống kê tổng số lượng nhãn từ cả hai thư mục:\")\n",
    "for label, count in label_counts.items():\n",
    "    print(f\"Nhãn {label}: {count}\")\n",
    "\n",
    "print(f\"Số file không đủ 4 nhãn: {missing_label_count}\")"
   ]
  }
 ],
 "metadata": {
  "kernelspec": {
   "display_name": "neuron",
   "language": "python",
   "name": "python3"
  },
  "language_info": {
   "codemirror_mode": {
    "name": "ipython",
    "version": 3
   },
   "file_extension": ".py",
   "mimetype": "text/x-python",
   "name": "python",
   "nbconvert_exporter": "python",
   "pygments_lexer": "ipython3",
   "version": "3.10.14"
  }
 },
 "nbformat": 4,
 "nbformat_minor": 2
}
